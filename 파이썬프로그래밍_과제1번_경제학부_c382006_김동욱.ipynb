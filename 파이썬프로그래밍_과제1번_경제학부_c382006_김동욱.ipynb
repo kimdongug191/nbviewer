{
 "cells": [
  {
   "cell_type": "markdown",
   "metadata": {},
   "source": [
    "## C382006 김동욱"
   ]
  },
  {
   "cell_type": "markdown",
   "metadata": {},
   "source": [
    "### 변수와 식별자"
   ]
  },
  {
   "cell_type": "code",
   "execution_count": 6,
   "metadata": {},
   "outputs": [
    {
     "name": "stdout",
     "output_type": "stream",
     "text": [
      "경제학부\n",
      "2258884570496\n"
     ]
    }
   ],
   "source": [
    "# 변수 var_x에 문자열 데이터 '경제학부'를 저장\n",
    "var_x = '경제학부'\n",
    "\n",
    "# 변수 var_x에 저장된 데이터 출력\n",
    "print(var_x)\n",
    "\n",
    "# 변수 var_x의 메모리 주소를 출력\n",
    "print(id(var_x))"
   ]
  },
  {
   "cell_type": "code",
   "execution_count": 7,
   "metadata": {},
   "outputs": [
    {
     "name": "stdout",
     "output_type": "stream",
     "text": [
      "산업데이터공학과 복수 전공\n",
      "2258884434256\n"
     ]
    }
   ],
   "source": [
    "# 변수 var_x에 문자열 데이터 를 '산업데이터공학과 복수전공' 수정\n",
    "var_x = '산업데이터공학과 복수 전공'\n",
    "\n",
    "print(var_x)\n",
    "print(id(var_x))"
   ]
  },
  {
   "cell_type": "code",
   "execution_count": 9,
   "metadata": {},
   "outputs": [
    {
     "name": "stdout",
     "output_type": "stream",
     "text": [
      "경제학부\n",
      "2258884570496\n"
     ]
    }
   ],
   "source": [
    "# 변수 var_y에 문자열 데이터 '경제학부'를 저장\n",
    "var_y = '경제학부'\n",
    "\n",
    "print(var_y)\n",
    "print(id(var_y))\n",
    "# 다른 메모리 주소가 수정됨"
   ]
  },
  {
   "cell_type": "markdown",
   "metadata": {},
   "source": [
    "#### Ipython"
   ]
  },
  {
   "cell_type": "code",
   "execution_count": 5,
   "metadata": {},
   "outputs": [
    {
     "data": {
      "application/json": {
       "cell": {
        "!": "OSMagics",
        "HTML": "Other",
        "SVG": "Other",
        "bash": "Other",
        "capture": "ExecutionMagics",
        "cmd": "Other",
        "code_wrap": "ExecutionMagics",
        "debug": "ExecutionMagics",
        "file": "Other",
        "html": "DisplayMagics",
        "javascript": "DisplayMagics",
        "js": "DisplayMagics",
        "latex": "DisplayMagics",
        "markdown": "DisplayMagics",
        "perl": "Other",
        "prun": "ExecutionMagics",
        "pypy": "Other",
        "python": "Other",
        "python2": "Other",
        "python3": "Other",
        "ruby": "Other",
        "script": "ScriptMagics",
        "sh": "Other",
        "svg": "DisplayMagics",
        "sx": "OSMagics",
        "system": "OSMagics",
        "time": "ExecutionMagics",
        "timeit": "ExecutionMagics",
        "writefile": "OSMagics"
       },
       "line": {
        "alias": "OSMagics",
        "alias_magic": "BasicMagics",
        "autoawait": "AsyncMagics",
        "autocall": "AutoMagics",
        "automagic": "AutoMagics",
        "autosave": "KernelMagics",
        "bookmark": "OSMagics",
        "cd": "OSMagics",
        "clear": "KernelMagics",
        "cls": "KernelMagics",
        "code_wrap": "ExecutionMagics",
        "colors": "BasicMagics",
        "conda": "PackagingMagics",
        "config": "ConfigMagics",
        "connect_info": "KernelMagics",
        "copy": "Other",
        "ddir": "Other",
        "debug": "ExecutionMagics",
        "dhist": "OSMagics",
        "dirs": "OSMagics",
        "doctest_mode": "BasicMagics",
        "echo": "Other",
        "ed": "Other",
        "edit": "KernelMagics",
        "env": "OSMagics",
        "gui": "BasicMagics",
        "hist": "Other",
        "history": "HistoryMagics",
        "killbgscripts": "ScriptMagics",
        "ldir": "Other",
        "less": "KernelMagics",
        "load": "CodeMagics",
        "load_ext": "ExtensionMagics",
        "loadpy": "CodeMagics",
        "logoff": "LoggingMagics",
        "logon": "LoggingMagics",
        "logstart": "LoggingMagics",
        "logstate": "LoggingMagics",
        "logstop": "LoggingMagics",
        "ls": "Other",
        "lsmagic": "BasicMagics",
        "macro": "ExecutionMagics",
        "magic": "BasicMagics",
        "mamba": "PackagingMagics",
        "matplotlib": "PylabMagics",
        "micromamba": "PackagingMagics",
        "mkdir": "Other",
        "more": "KernelMagics",
        "notebook": "BasicMagics",
        "page": "BasicMagics",
        "pastebin": "CodeMagics",
        "pdb": "ExecutionMagics",
        "pdef": "NamespaceMagics",
        "pdoc": "NamespaceMagics",
        "pfile": "NamespaceMagics",
        "pinfo": "NamespaceMagics",
        "pinfo2": "NamespaceMagics",
        "pip": "PackagingMagics",
        "popd": "OSMagics",
        "pprint": "BasicMagics",
        "precision": "BasicMagics",
        "prun": "ExecutionMagics",
        "psearch": "NamespaceMagics",
        "psource": "NamespaceMagics",
        "pushd": "OSMagics",
        "pwd": "OSMagics",
        "pycat": "OSMagics",
        "pylab": "PylabMagics",
        "qtconsole": "KernelMagics",
        "quickref": "BasicMagics",
        "recall": "HistoryMagics",
        "rehashx": "OSMagics",
        "reload_ext": "ExtensionMagics",
        "ren": "Other",
        "rep": "Other",
        "rerun": "HistoryMagics",
        "reset": "NamespaceMagics",
        "reset_selective": "NamespaceMagics",
        "rmdir": "Other",
        "run": "ExecutionMagics",
        "save": "CodeMagics",
        "sc": "OSMagics",
        "set_env": "OSMagics",
        "store": "StoreMagics",
        "sx": "OSMagics",
        "system": "OSMagics",
        "tb": "ExecutionMagics",
        "time": "ExecutionMagics",
        "timeit": "ExecutionMagics",
        "unalias": "OSMagics",
        "unload_ext": "ExtensionMagics",
        "uv": "PackagingMagics",
        "who": "NamespaceMagics",
        "who_ls": "NamespaceMagics",
        "whos": "NamespaceMagics",
        "xdel": "NamespaceMagics",
        "xmode": "BasicMagics"
       }
      },
      "text/plain": [
       "Available line magics:\n",
       "%alias  %alias_magic  %autoawait  %autocall  %automagic  %autosave  %bookmark  %cd  %clear  %cls  %code_wrap  %colors  %conda  %config  %connect_info  %copy  %ddir  %debug  %dhist  %dirs  %doctest_mode  %echo  %ed  %edit  %env  %gui  %hist  %history  %killbgscripts  %ldir  %less  %load  %load_ext  %loadpy  %logoff  %logon  %logstart  %logstate  %logstop  %ls  %lsmagic  %macro  %magic  %mamba  %matplotlib  %micromamba  %mkdir  %more  %notebook  %page  %pastebin  %pdb  %pdef  %pdoc  %pfile  %pinfo  %pinfo2  %pip  %popd  %pprint  %precision  %prun  %psearch  %psource  %pushd  %pwd  %pycat  %pylab  %qtconsole  %quickref  %recall  %rehashx  %reload_ext  %ren  %rep  %rerun  %reset  %reset_selective  %rmdir  %run  %save  %sc  %set_env  %store  %sx  %system  %tb  %time  %timeit  %unalias  %unload_ext  %uv  %who  %who_ls  %whos  %xdel  %xmode\n",
       "\n",
       "Available cell magics:\n",
       "%%!  %%HTML  %%SVG  %%bash  %%capture  %%cmd  %%code_wrap  %%debug  %%file  %%html  %%javascript  %%js  %%latex  %%markdown  %%perl  %%prun  %%pypy  %%python  %%python2  %%python3  %%ruby  %%script  %%sh  %%svg  %%sx  %%system  %%time  %%timeit  %%writefile\n",
       "\n",
       "Automagic is ON, % prefix IS NOT needed for line magics."
      ]
     },
     "execution_count": 5,
     "metadata": {},
     "output_type": "execute_result"
    }
   ],
   "source": [
    "# 매직 명령어 목록 보기\n",
    "%lsmagic\n"
   ]
  },
  {
   "cell_type": "code",
   "execution_count": 10,
   "metadata": {},
   "outputs": [
    {
     "data": {
      "text/plain": [
       "'c:\\\\Users\\\\82102\\\\OneDrive\\\\바탕 화면\\\\3-1'"
      ]
     },
     "execution_count": 10,
     "metadata": {},
     "output_type": "execute_result"
    }
   ],
   "source": [
    "# 현재 디렉토리 확인\n",
    "%pwd"
   ]
  },
  {
   "cell_type": "code",
   "execution_count": null,
   "metadata": {},
   "outputs": [
    {
     "name": "stdout",
     "output_type": "stream",
     "text": [
      " C ����̺��� �������� �̸��� �����ϴ�.\n",
      " ���� �Ϸ� ��ȣ: 20B3-938D\n",
      "\n",
      " c:\\Users\\82102\\OneDrive\\���� ȭ��\\3-1 ���͸�\n",
      "\n",
      "2025-03-31  ���� 04:24    <DIR>          .\n",
      "2025-03-31  ���� 03:41    <DIR>          ..\n",
      "2025-03-21  ���� 04:43             8,236 growth.ipynb\n",
      "2025-03-04  ���� 09:18                63 helloworld.py\n",
      "2025-03-11  ���� 10:22    <DIR>          my_python_projects\n",
      "2025-03-25  ���� 03:50    <DIR>          �����跮������\n",
      "2025-03-31  ���� 04:38             8,530 ���̽����α׷���_����1��_�����к�_c382006_�赿��.ipynb\n",
      "2025-03-28  ���� 04:33    <DIR>          ������\n",
      "               3�� ����              16,829 ����Ʈ\n",
      "               5�� ���͸�  282,645,934,080 ����Ʈ ����\n"
     ]
    }
   ],
   "source": [
    "# 현재 디렉토리의 파일 목록 확인\n",
    "%ls\n"
   ]
  },
  {
   "cell_type": "markdown",
   "metadata": {},
   "source": [
    "##### 한글이 깨지는 문제 발생\n",
    "1. 레지스트리 편집기 실행\n",
    "2. 코드 페이지 설정 경로로 이동\n",
    "3. OEMCP 값 수정\n",
    "    - 65001 로 수정\n",
    "4. 시스템 재부팅"
   ]
  },
  {
   "cell_type": "code",
   "execution_count": null,
   "metadata": {},
   "outputs": [
    {
     "name": "stdout",
     "output_type": "stream",
     "text": [
      " Volume in drive C has no label.\n",
      " Volume Serial Number is 20B3-938D\n",
      "\n",
      " Directory of c:\\Users\\82102\\OneDrive\\바탕 화면\\3-1\n",
      "\n",
      "2025-03-31  오후 04:24    <DIR>          .\n",
      "2025-03-31  오후 03:41    <DIR>          ..\n",
      "2025-03-21  오후 04:43             8,236 growth.ipynb\n",
      "2025-03-04  오전 09:18                63 helloworld.py\n",
      "2025-03-11  오전 10:22    <DIR>          my_python_projects\n",
      "2025-03-25  오후 03:50    <DIR>          금융계량경제학\n",
      "2025-03-31  오후 04:45            11,346 파이썬프로그래밍_과제1번_경제학부_c382006_김동욱.ipynb\n",
      "2025-03-28  오후 04:33    <DIR>          현생디\n",
      "               3 File(s)         19,645 bytes\n",
      "               5 Dir(s)  282,725,228,544 bytes free\n"
     ]
    }
   ],
   "source": [
    "# 현재 디렉토리의 파일 목록 확인\n",
    "# 한글이 다시 적용된것을 볼수 있다!!\n",
    "%ls\n"
   ]
  },
  {
   "cell_type": "markdown",
   "metadata": {},
   "source": [
    "#### 디렉토리 변경방법"
   ]
  },
  {
   "cell_type": "code",
   "execution_count": 17,
   "metadata": {},
   "outputs": [
    {
     "name": "stdout",
     "output_type": "stream",
     "text": [
      "C:\\Users\\82102\\Documents\n"
     ]
    },
    {
     "name": "stderr",
     "output_type": "stream",
     "text": [
      "c:\\Users\\82102\\miniforge3\\Lib\\site-packages\\IPython\\core\\magics\\osm.py:417: UserWarning: This is now an optional IPython functionality, setting dhist requires you to install the `pickleshare` library.\n",
      "  self.shell.db['dhist'] = compress_dhist(dhist)[-100:]\n"
     ]
    }
   ],
   "source": [
    "# 디렉토리 변경 (%cd 경로명)\n",
    "%cd C:\\Users\\82102\\Documents"
   ]
  },
  {
   "cell_type": "code",
   "execution_count": 18,
   "metadata": {},
   "outputs": [
    {
     "name": "stdout",
     "output_type": "stream",
     "text": [
      "c:\\Users\\82102\\OneDrive\\바탕 화면\\3-1\n"
     ]
    },
    {
     "name": "stderr",
     "output_type": "stream",
     "text": [
      "c:\\Users\\82102\\miniforge3\\Lib\\site-packages\\IPython\\core\\magics\\osm.py:417: UserWarning: This is now an optional IPython functionality, setting dhist requires you to install the `pickleshare` library.\n",
      "  self.shell.db['dhist'] = compress_dhist(dhist)[-100:]\n"
     ]
    }
   ],
   "source": [
    "# 다시 원래 디렉토리로 변경\n",
    "%cd c:\\\\Users\\\\82102\\\\OneDrive\\\\바탕 화면\\\\3-1"
   ]
  },
  {
   "cell_type": "code",
   "execution_count": null,
   "metadata": {},
   "outputs": [
    {
     "name": "stdout",
     "output_type": "stream",
     "text": [
      "var_x\t var_y\t \n"
     ]
    }
   ],
   "source": [
    "# 현재 커널에서 사용중인 변수 목록\n",
    "%who"
   ]
  },
  {
   "cell_type": "markdown",
   "metadata": {},
   "source": [
    "#### 변수 목록을 리스트로 출력"
   ]
  },
  {
   "cell_type": "code",
   "execution_count": null,
   "metadata": {},
   "outputs": [
    {
     "data": {
      "text/plain": [
       "['var_x', 'var_y']"
      ]
     },
     "execution_count": 15,
     "metadata": {},
     "output_type": "execute_result"
    }
   ],
   "source": [
    "# 현재 커널에서 사용중인 변수 리스트로 출력\n",
    "%who_ls"
   ]
  },
  {
   "cell_type": "code",
   "execution_count": 16,
   "metadata": {},
   "outputs": [
    {
     "name": "stdout",
     "output_type": "stream",
     "text": [
      "Variable   Type    Data/Info\n",
      "----------------------------\n",
      "var_x      str     산업데이터공학과 복수 전공\n",
      "var_y      str     경제학부\n"
     ]
    }
   ],
   "source": [
    "# 헌재 커널에서 사용중인 변수 목록, 데이터 타입, 값\n",
    "%whos"
   ]
  },
  {
   "cell_type": "markdown",
   "metadata": {},
   "source": [
    "#### 데이터의 입출력\n",
    "- input()\n",
    "- print()\n",
    "- 이스케이프 문자\n",
    "- f-string"
   ]
  },
  {
   "cell_type": "markdown",
   "metadata": {},
   "source": [
    "##### input() 함수"
   ]
  },
  {
   "cell_type": "code",
   "execution_count": 23,
   "metadata": {},
   "outputs": [
    {
     "name": "stdout",
     "output_type": "stream",
     "text": [
      "var_z = '경제학부'\n",
      "type(var_z) = <class 'str'>\n"
     ]
    }
   ],
   "source": [
    "var_z = input('데이터를 입력하세요')\n",
    "\n",
    "# 변수 var_z에 저장된 데이터를 출력\n",
    "print(f'{var_z = }')\n",
    "\n",
    "# 변수 var_z에 저장된 데이터 타입을 출력\n",
    "print(f'{type(var_z) = }')"
   ]
  },
  {
   "cell_type": "code",
   "execution_count": null,
   "metadata": {},
   "outputs": [
    {
     "name": "stdout",
     "output_type": "stream",
     "text": [
      "10\n",
      "type(var_z) = <class 'int'>\n"
     ]
    }
   ],
   "source": [
    "# 사용자로부터 데이터를 입력받아 정수형으로 변환후, var_z에 저장\n",
    "var_z = int(input('숫자를 입력하세요'))\n",
    "\n",
    "# 변수 var_z에 저장된 데이터 출력\n",
    "print(var_z)\n",
    "\n",
    "# 변수 var_z에 저장된 데이터 타입을 출력\n",
    "print(f'{type(var_z) = }')"
   ]
  },
  {
   "cell_type": "code",
   "execution_count": 28,
   "metadata": {},
   "outputs": [
    {
     "ename": "ValueError",
     "evalue": "invalid literal for int() with base 10: '가'",
     "output_type": "error",
     "traceback": [
      "\u001b[1;31m---------------------------------------------------------------------------\u001b[0m",
      "\u001b[1;31mValueError\u001b[0m                                Traceback (most recent call last)",
      "Cell \u001b[1;32mIn[28], line 4\u001b[0m\n\u001b[0;32m      1\u001b[0m \u001b[38;5;28;01mtry\u001b[39;00m :\n\u001b[0;32m      2\u001b[0m     \u001b[38;5;66;03m# 사용자로부터 데이터를 입력받아 정수형으로 변환후, var_z에 저장\u001b[39;00m\n\u001b[0;32m      3\u001b[0m     \u001b[38;5;66;03m# 이때 숫자 대신'가'를 입력하면 오류 발생\u001b[39;00m\n\u001b[1;32m----> 4\u001b[0m     var_z \u001b[38;5;241m=\u001b[39m \u001b[38;5;28mint\u001b[39m(\u001b[38;5;28minput\u001b[39m(\u001b[38;5;124m'\u001b[39m\u001b[38;5;124m숫자를 입력하세요\u001b[39m\u001b[38;5;124m'\u001b[39m))\n\u001b[0;32m      6\u001b[0m     \u001b[38;5;66;03m# 변수 var_z에 저장된 데이터 출력\u001b[39;00m\n\u001b[0;32m      7\u001b[0m     \u001b[38;5;28mprint\u001b[39m(var_z)\n",
      "\u001b[1;31mValueError\u001b[0m: invalid literal for int() with base 10: '가'"
     ]
    }
   ],
   "source": [
    "try :\n",
    "    # 사용자로부터 데이터를 입력받아 정수형으로 변환후, var_z에 저장\n",
    "    # 이때 숫자 대신'가'를 입력하면 오류 발생\n",
    "    var_z = int(input('숫자를 입력하세요'))\n",
    "\n",
    "    # 변수 var_z에 저장된 데이터 출력\n",
    "    print(var_z)\n",
    "\n",
    "    # 변수 var_z에 저장된 데이터 타입을 출력\n",
    "    print(f'{type(var_z) = }')\n",
    "\n",
    "except TypeError as e:\n",
    "    print(f'Error : {e}')"
   ]
  },
  {
   "cell_type": "markdown",
   "metadata": {},
   "source": [
    "##### print() 함수\n",
    "- 이스케이프 문자  : \\ 기호와 함꼐 사용\n",
    "    - \\n  : 줄바꿈\n",
    "    - \\t : 탭\n",
    "    - \\\\ : \\출력\n",
    "    - \\' : ' 출력"
   ]
  },
  {
   "cell_type": "code",
   "execution_count": null,
   "metadata": {},
   "outputs": [
    {
     "name": "stdout",
     "output_type": "stream",
     "text": [
      "3.14 3 산업데이터공학과 복수 전공 True\n"
     ]
    }
   ],
   "source": [
    "print(3.14, int(3.14), var_x, True)"
   ]
  },
  {
   "cell_type": "code",
   "execution_count": 43,
   "metadata": {},
   "outputs": [
    {
     "name": "stdout",
     "output_type": "stream",
     "text": [
      "3.14 \n",
      " 3 \n",
      " 산업데이터공학과 복수 전공 \n",
      " True\n",
      "\n",
      "\n",
      "3.14|3|산업데이터공학과 복수 전공|True\n",
      "\n",
      "\n",
      "3.14|\n",
      "|3|\n",
      "|산업데이터공학과 복수 전공|\n",
      "|True\n",
      "\n",
      "\n",
      "3.14|\t|3|\t|산업데이터공학과 복수 전공|\t|True\n",
      "\n",
      "\n",
      "3.14 \\ 3 \\ 산업데이터공학과 복수 전공 \\ True\n",
      "\n",
      "\n",
      "3.14\n",
      "\\\n",
      "3\n",
      "\\\n",
      "산업데이터공학과 복수 전공\n",
      "\\\n",
      "True\n"
     ]
    }
   ],
   "source": [
    "print( 3.14, '\\n', int(3.14), '\\n', var_x,'\\n', True)\n",
    "print('\\n')\n",
    "print( 3.14,  int(3.14),  var_x, True, sep= '|')\n",
    "print('\\n')\n",
    "print( 3.14, '\\n', int(3.14), '\\n', var_x,'\\n', True, sep= '|')\n",
    "# 줄을 바꾸니 양쪽에 분리하는 '|' 생김\n",
    "print('\\n')\n",
    "print( 3.14, '\\t', int(3.14), '\\t', var_x,'\\t', True, sep= '|')\n",
    "#탭도 똑같이 양쪽에 생김\n",
    "print('\\n')\n",
    "print( 3.14, '\\\\', int(3.14), '\\\\', var_x,'\\\\', True)\n",
    "\n",
    "print('\\n')\n",
    "print( 3.14, '\\\\', int(3.14), '\\\\', var_x,'\\\\', True, sep= '\\n')"
   ]
  },
  {
   "cell_type": "code",
   "execution_count": null,
   "metadata": {},
   "outputs": [
    {
     "name": "stdout",
     "output_type": "stream",
     "text": [
      "3.14 3 산업데이터공학과 복수 전공 True\t끝!\n",
      "3.14 3 산업데이터공학과 복수 전공 True\t\n",
      "끝!\n"
     ]
    }
   ],
   "source": [
    "print(3.14, int(3.14), var_x, True, end ='\\t끝!\\n')\n",
    "# 마지막에 '\\n' 해주면 print('\\n')을 위에 셀 처럼 일일이 안해줘도 됨됨\n",
    "print(3.14, int(3.14), var_x, True, end ='\\t\\n끝!\\n')"
   ]
  },
  {
   "cell_type": "markdown",
   "metadata": {},
   "source": [
    "##### f-string"
   ]
  },
  {
   "cell_type": "code",
   "execution_count": null,
   "metadata": {},
   "outputs": [
    {
     "name": "stdout",
     "output_type": "stream",
     "text": [
      "산업데이터공학과 복수 전공\n",
      "var_x ='산업데이터공학과 복수 전공'\n",
      "var_x = 산업데이터공학과 복수 전공\n"
     ]
    }
   ],
   "source": [
    "print(f'{var_x}', f'{var_x =}', f'var_x = {var_x}', sep=\"\\n\")\n",
    "# 변수 var_x 저장된 데이터 출력\n",
    "# f'{var_x}' 이렇게 출력하면 따옴표 없이 출력\n",
    "# f'{var_x =}' 이렇게 출력하면 따옴표도 같이 출력력"
   ]
  },
  {
   "cell_type": "markdown",
   "metadata": {},
   "source": [
    "##### 그럼 문자열은  따옴표 없이 출력되나?"
   ]
  },
  {
   "cell_type": "code",
   "execution_count": null,
   "metadata": {},
   "outputs": [
    {
     "name": "stdout",
     "output_type": "stream",
     "text": [
      "10\n",
      "var_x1 = 10\n",
      "var_x1 = 10\n"
     ]
    }
   ],
   "source": [
    "var_x1 = 10\n",
    "\n",
    "print(f'{var_x1}', f'{var_x1 = }', f'var_x1 = {var_x1}', sep=\"\\n\")\n",
    "# 문자열은 그냥  따옴표 없이 그냥 출력"
   ]
  },
  {
   "cell_type": "code",
   "execution_count": 62,
   "metadata": {},
   "outputs": [
    {
     "name": "stdout",
     "output_type": "stream",
     "text": [
      "var_x는 정수형이므로 d를 사용하여야 하고, 12입니다.\n",
      "var_x를 총 15개의 자리에 표현하면,              12입니다.\n",
      "var_x를 총 15개의 자리에 왼쪽 정렬하여 표현하면, 12             입니다.\n",
      "var_y는 실수형이므로 f를 사용하여야 하고, 12.345679입니다.\n",
      "var_y를 정수만 출력하면 12입니다.\n",
      "var_y를 소수점 3자리까지 출력하면 12.346입니다.\n",
      "var_y를 15자리에 가운데 정렬하여 소수점 3자리까지 출력하면        12.346       입니다.\n"
     ]
    }
   ],
   "source": [
    "var_x = 12\n",
    "var_y = 12.3456789\n",
    "\n",
    "print(f'var_x는 정수형이므로 d를 사용하여야 하고, {var_x:d}입니다.') # 자리수에 맞게 출력력\n",
    "print(f'var_x를 총 15개의 자리에 표현하면, {var_x:15d}입니다.') # 15개 자리 만든후 밖부터 채움(14-15)\n",
    "print(f'var_x를 총 15개의 자리에 왼쪽 정렬하여 표현하면, {var_x: <15d}입니다.') # 왼쪽자리 정렬\n",
    "print(f'var_y는 실수형이므로 f를 사용하여야 하고, {var_y:f}입니다.') \n",
    "print(f'var_y를 정수만 출력하면 {var_y:.0f}입니다.')\n",
    "\n",
    "print(f'var_y를 소수점 3자리까지 출력하면 {var_y:.3f}입니다.')\n",
    "print(f'var_y를 15자리에 가운데 정렬하여 소수점 3자리까지 출력하면 {var_y:^20.3f}입니다.')\n"
   ]
  },
  {
   "cell_type": "markdown",
   "metadata": {},
   "source": [
    "##### 15개 자리를 만든후에 15개 안에 욱여 넣는 걸까 새로 공간이 창출 되는 걸까?"
   ]
  },
  {
   "cell_type": "code",
   "execution_count": null,
   "metadata": {},
   "outputs": [
    {
     "name": "stdout",
     "output_type": "stream",
     "text": [
      "    12.346     .\n",
      "         12.346."
     ]
    }
   ],
   "source": [
    "print(f'{var_y:^15.3f}',end='.\\n')\n",
    "print(f'{var_y:15.3f}',end='.')\n",
    "#  끝이 동일한걸 보면 15개 공간 만들고 그안에 맞춰서 넣는다."
   ]
  },
  {
   "cell_type": "markdown",
   "metadata": {},
   "source": [
    "##### 데이터가 늘어나면 앞에서 부터 채울까 뒤에서 채울까?"
   ]
  },
  {
   "cell_type": "code",
   "execution_count": null,
   "metadata": {},
   "outputs": [
    {
     "name": "stdout",
     "output_type": "stream",
     "text": [
      "     12345     .\n",
      "    123456     .\n",
      "    1234567    ."
     ]
    }
   ],
   "source": [
    "var_z = 12345\n",
    "print(f'{var_z:^15d}',end='.\\n')\n",
    "var_z = 123456\n",
    "print(f'{var_z:^15d}',end='.\\n')\n",
    "var_z = 1234567\n",
    "print(f'{var_z:^15d}',end='.')\n",
    "#왼쪽에서 먼저 채우고 오른쪽을 나중에 채움움"
   ]
  },
  {
   "cell_type": "markdown",
   "metadata": {},
   "source": [
    "#### 파이썬의 데이터 유형(type)\n",
    "- 숫자 : 123\n",
    "- 문자열 : 'abc'\n",
    "- 리스트 : [123,'abc']\n",
    "- 튜플 : (123,'abc')\n",
    "- 딕셔너리 : {lastname :'kim', fristname : 'dongwook'}\n",
    "- 집합 : {1,2,3} -> 중복x\n",
    "- 불림 : True, False\n",
    "- None : None"
   ]
  },
  {
   "cell_type": "markdown",
   "metadata": {},
   "source": [
    "##### mutable & immutable\n",
    "- mutable : 리스트, 딕셔너리\n",
    "- immutable : 문자열, 튜플"
   ]
  },
  {
   "cell_type": "markdown",
   "metadata": {},
   "source": [
    "##### mutable : list"
   ]
  },
  {
   "cell_type": "code",
   "execution_count": 76,
   "metadata": {},
   "outputs": [
    {
     "name": "stdout",
     "output_type": "stream",
     "text": [
      "Before: x_list = ['abcde', 12345]\n",
      "After : x_list = ['abcde', 'fghij']\n"
     ]
    }
   ],
   "source": [
    "x_list = ['abcde', 12345]\n",
    "\n",
    "#원소 변경전 x_list의 값을 출력\n",
    "print(f'Before: {x_list = }')\n",
    "\n",
    "#인덱스 1 원소를 'fghij'로 변경\n",
    "x_list[1] = 'fghij'\n",
    "\n",
    "#원소 변경후 x_list의 값을 출력\n",
    "print(f'After : {x_list = }')"
   ]
  },
  {
   "cell_type": "markdown",
   "metadata": {},
   "source": [
    "##### mutable : dictionary"
   ]
  },
  {
   "cell_type": "code",
   "execution_count": 84,
   "metadata": {},
   "outputs": [
    {
     "name": "stdout",
     "output_type": "stream",
     "text": [
      "Before: x_dict = {'name': 'Dongwook Kim', 'id': 12345, 'password': 67890}\n",
      "After : x_dict = {'name': 'Apple pie', 'id': 12345, 'password': 67890}\n"
     ]
    }
   ],
   "source": [
    "x_dict = {'name': 'Dongwook Kim', 'id':12345, 'password' : 67890}\n",
    "\n",
    "#원소 변경전 x_dict의 값을 출력\n",
    "print(f'Before: {x_dict = }')\n",
    "\n",
    "# key가 'name'인 원소를 'Apple pie'으로 변경\n",
    "x_dict['name'] = 'Apple pie'\n",
    "\n",
    "#원소 변경후 x_dict의 값을 출력\n",
    "print(f'After : {x_dict = }')"
   ]
  },
  {
   "cell_type": "markdown",
   "metadata": {},
   "source": [
    "##### 한번에 여러개도 바꿀수 있을까?"
   ]
  },
  {
   "cell_type": "code",
   "execution_count": null,
   "metadata": {},
   "outputs": [
    {
     "name": "stdout",
     "output_type": "stream",
     "text": [
      "After update: x_dict = {'name': 'Apple pie', 'id': 67890, 'password': 12345}\n",
      "After **: x_dict = {'name': 'Apple pie', 'id': 10, 'password': 20}\n",
      "After DC: x_dict = {'name': 'Apple pie', 'id': 100, 'password': 200}\n",
      "After for: x_dict = {'name': 'Apple pie', 'id': '비밀번호', 'password': '비밀번호'}\n"
     ]
    }
   ],
   "source": [
    "### 지정 처리 \n",
    "# 1. update() 메서드 사용\n",
    "x_dict.update({'id' : 67890, 'password' : 12345})\n",
    "print(f'After update: {x_dict = }')\n",
    "\n",
    "# 2. 딕셔너리 언패킹 연산자 () 사용 **\n",
    "x_dict = {**x_dict, **{'id': 10, 'password': 20}}\n",
    "print(f'After **: {x_dict = }')\n",
    "\n",
    "### 일괄 처리\n",
    "# 3. Dictionary Comprehension 사용\n",
    "x_dict = {k: (v * 10 if k in ['id', 'password'] else v) for k, v in x_dict.items()}\n",
    "print(f'After DC: {x_dict = }') # 딕셔너리의 일괄 처리에 유리\n",
    "\n",
    "# 4. for문을 이용한 일괄 변경\n",
    "for key in ['id', 'password']:\n",
    "    x_dict[key] = '비밀번호'\n",
    "print(f'After for: {x_dict = }') # 딕셔너리의 일괄 처리에 유리"
   ]
  },
  {
   "cell_type": "markdown",
   "metadata": {},
   "source": [
    "##### immutable : string -> 원소 바꾸기 불가"
   ]
  },
  {
   "cell_type": "code",
   "execution_count": 93,
   "metadata": {},
   "outputs": [
    {
     "name": "stdout",
     "output_type": "stream",
     "text": [
      "Before: x_str = 'block'\n",
      "Error : 'str' object does not support item assignment\n",
      "After : x_str = 'block'\n",
      "\n",
      "After : x_str = 'clock'\n"
     ]
    }
   ],
   "source": [
    "x_str = 'block'\n",
    "\n",
    "# 원소 변경전 x_str의 값을 출력\n",
    "print(f'Before: {x_str = }')\n",
    "\n",
    "#try 블록 안의 코드를 실행하다가 에러가 발생하면 except 블록의 코드를 실행\n",
    "try:\n",
    "    # 인덱스 1 원소를 '2'로 변경. 문자열은 immutable 자료형이므로 에러 발생\n",
    "    x_str[1] = '2'\n",
    "except TypeError as e: # 에러 발생시 에러 메시지를 e에 할당\n",
    "    # 에러 메시지 출력\n",
    "    print(f'Error : {e}')\n",
    "\n",
    "#원소 변경후 x_str의 값을 출력\n",
    "print(f'After : {x_str = }\\n')\n",
    "\n",
    "# 원소를 바꾸려면 새로 할당해야됨\n",
    "x_str = 'clock'\n",
    "print(f'After : {x_str = }')\n"
   ]
  },
  {
   "cell_type": "markdown",
   "metadata": {},
   "source": [
    "##### immutable : tuple"
   ]
  },
  {
   "cell_type": "code",
   "execution_count": 108,
   "metadata": {},
   "outputs": [
    {
     "name": "stdout",
     "output_type": "stream",
     "text": [
      "Before: x_tuple = ('block', 2580, 'clock')\n",
      "Error : 'tuple' object does not support item assignment\n",
      "After : x_tuple = ('block', 2580, 'clock')\n"
     ]
    }
   ],
   "source": [
    "x_tuple =('block', 2580, 'clock')\n",
    "\n",
    "#원소 변경전 x_tuple의 값을 출력\n",
    "print(f'Before: {x_tuple = }')\n",
    "\n",
    "try:\n",
    "    x_tuple[1] = 'fghij'\n",
    "except TypeError as e: \n",
    "    print(f'Error : {e}')\n",
    "\n",
    "# 원소 변경후 x_tuple의 값을 출력\n",
    "print(f'After : {x_tuple = }')"
   ]
  },
  {
   "cell_type": "markdown",
   "metadata": {},
   "source": [
    "##### 튜플 출력 / 중첩 튜플"
   ]
  },
  {
   "cell_type": "code",
   "execution_count": null,
   "metadata": {},
   "outputs": [
    {
     "name": "stdout",
     "output_type": "stream",
     "text": [
      "\n",
      "x_tuple[i]= ('block', 'clock')\n",
      "\n",
      "x_tuple[i]= 1234\n",
      "\n",
      "multi: x_tuple = (('block', 'clock'), 1234)\n",
      "\n",
      "x_tuple[0] = ('block', 'clock')\n"
     ]
    }
   ],
   "source": [
    "# for 문을 이용해 튜플안에 있는 값 출력력\n",
    "for i in range(0,len(x_tuple)): # len() 함수를 통해 문자열의 길이 추천천\n",
    "    print(f'\\n{x_tuple[i]= }')\n",
    "\n",
    "# 튜플 안에 또 다른 튜플이 있는 경우에도, 최상위 튜플의 원소 개수를 셈\n",
    "x_tuple = (('block', 'clock'), 1234)\n",
    "\n",
    "print(f'\\nmulti: {x_tuple = }')\n",
    "print(f'\\n{x_tuple[0] = }') # 한번에 튜플안에 값이 출력력"
   ]
  },
  {
   "cell_type": "markdown",
   "metadata": {},
   "source": [
    "#### 자료형 변환\n",
    "- 단일 자료형 : int(), float(), str()\n",
    "- iterables 자료형 : list() , tuple(), dict(), set()"
   ]
  },
  {
   "cell_type": "code",
   "execution_count": null,
   "metadata": {},
   "outputs": [],
   "source": []
  },
  {
   "cell_type": "markdown",
   "metadata": {},
   "source": [
    "##### 단일 자료형 변환 함수\n",
    "- int(): 정수형으로 변환\n",
    "- float(): 실수형으로 변환\n",
    "- str(): 문자열로 변환"
   ]
  },
  {
   "cell_type": "code",
   "execution_count": null,
   "metadata": {},
   "outputs": [
    {
     "name": "stdout",
     "output_type": "stream",
     "text": [
      "12345는 <class 'int'>\n",
      "---------------------------------------------\n",
      "12345.0는 <class 'float'>\n",
      "---------------------------------------------\n",
      "12345는 <class 'str'>\n",
      "---------------------------------------------\n",
      "True\n",
      "True는 <class 'bool'>\n",
      "---------------------------------------------\n"
     ]
    }
   ],
   "source": [
    "# x_trans에 12345 할당\n",
    "x_trans = 12345\n",
    "\n",
    "#  print가 끝나면 줄바꾸면서  -*45 개 나오고 다시 줄 바꿈\n",
    "print(f'{x_trans}는 {type(x_trans)}', end='\\n'+'-'*45+'\\n')\n",
    "\n",
    "# x_trans 를 실수형으로 변경 후 출력력\n",
    "x_trans_f = float(x_trans)\n",
    "print(f'{x_trans_f}는 {type(x_trans_f)}', end='\\n'+'-'*45+'\\n')\n",
    "\n",
    "# x_trans 를 문자열로 변경 후 출력 \n",
    "x_trans_s = str(x_trans)\n",
    "print(f'{x_trans_s}는 {type(x_trans_s)}', end='\\n'+'-'*45+'\\n')\n",
    "\n",
    "# x_trans 를 boolen 형으로 변경후 출력\n",
    "x_trans_b = bool(x_trans)\n",
    "print(x_trans_b) # 정수 12345는 0이 아님으로 True\n",
    "print(f'{x_trans_b}는 {type(x_trans_b)}', end='\\n'+'-'*45+'\\n')\n"
   ]
  },
  {
   "cell_type": "markdown",
   "metadata": {},
   "source": [
    "##### 추가적인 궁금증\n",
    "- 문자열은 boolen 으로 바꾸었을때 어떻게 변할까?\n",
    "- 실수형을 문자열로 바꾸면 .0 이 붙은 부분도 문자열로 바뀔까?\n"
   ]
  },
  {
   "cell_type": "code",
   "execution_count": null,
   "metadata": {},
   "outputs": [
    {
     "name": "stdout",
     "output_type": "stream",
     "text": [
      "True\n",
      "False\n",
      "False\n",
      "False\n",
      "False\n",
      "False\n",
      "False\n",
      "False\n"
     ]
    }
   ],
   "source": [
    "# 문자열은 boolen 으로 바꾸었을때 어떻게 변할까?\n",
    "x_trans_b2 = bool(x_trans_s)\n",
    "print(x_trans_b2) # 0 이 아니면 다 True 로 출력 되는거 같다\n",
    "\n",
    "# bool 형으로 바꾸었을때 False로 출력되는 경우\n",
    "print(bool(0))        # 숫자 0\n",
    "print(bool(0.0))      # 실수 0\n",
    "print(bool(''))       # 빈 문자열\n",
    "print(bool([]))       # 빈 리스트\n",
    "print(bool({}))       # 빈 딕셔너리\n",
    "print(bool(None))     # None 값\n",
    "print(bool(False))    # 이미 False인 값"
   ]
  },
  {
   "cell_type": "code",
   "execution_count": null,
   "metadata": {},
   "outputs": [
    {
     "name": "stdout",
     "output_type": "stream",
     "text": [
      "12345.0\n",
      "type(x_trans_s2)=<class 'str'>\n"
     ]
    }
   ],
   "source": [
    "# - 실수형을 문자열로 바꾸면 .0 이 붙은 부분도 문자열로 바뀔까?\n",
    "x_trans_s2 = str(x_trans_f)\n",
    "print(x_trans_s2) # .0 도 같이 문자열로 변경된다.\n",
    "print(f'{type(x_trans_s2)=}') # 혹시 모르니깐 문자열인지 확인"
   ]
  },
  {
   "cell_type": "markdown",
   "metadata": {},
   "source": [
    "##### iterable 자료형 변환 함수 :반복가능한 자료형을 의미\n",
    "- list(): 리스트로 변환\n",
    "- tuple(): 튜플로 변환\n",
    "- dict(): 딕셔너리로 변환\n",
    "- set(): 집합으로 변환\n"
   ]
  },
  {
   "cell_type": "code",
   "execution_count": 137,
   "metadata": {},
   "outputs": [
    {
     "name": "stdout",
     "output_type": "stream",
     "text": [
      "range(1, 16, 2)는 <class 'range'>\n",
      "---------------------------------------------\n",
      "[1, 3, 5, 7, 9, 11, 13, 15]는 <class 'list'>\n",
      "---------------------------------------------\n",
      "(1, 3, 5, 7, 9, 11, 13, 15)는 <class 'tuple'>\n",
      "---------------------------------------------\n",
      "{1, 3, 5, 7, 9, 11, 13, 15}는 <class 'set'>\n",
      "---------------------------------------------\n"
     ]
    }
   ],
   "source": [
    "# x_iter 에 1 , 15 까지 2씩 증가하는 range 할당 (홀수만 할당)\n",
    "x_iter = range(1, 16, 2) # 15도 포함시키기 위해서 16까지\n",
    "\n",
    "# x_iter의 값과 자료형을 출력력\n",
    "print(f'{x_iter}는 {type(x_iter)}', end='\\n'+'-'*45+'\\n')\n",
    "\n",
    "# x_iter 을 리스트로 할당\n",
    "x_iter_l = list(x_iter)\n",
    "print(f'{x_iter_l}는 {type(x_iter_l)}', end='\\n'+'-'*45+'\\n')\n",
    "\n",
    "# x_iter 를 튜플로 변환하여 할당\n",
    "x_iter_t = tuple(x_iter)\n",
    "print(f'{x_iter_t}는 {type(x_iter_t)}', end='\\n'+'-'*45+'\\n')\n",
    "\n",
    "# x_iter 를 집합으으로 변환하여 할당\n",
    "x_iter_s = set(x_iter)\n",
    "print(f'{x_iter_s}는 {type(x_iter_s)}', end='\\n'+'-'*45+'\\n')"
   ]
  },
  {
   "cell_type": "code",
   "execution_count": 142,
   "metadata": {},
   "outputs": [
    {
     "name": "stdout",
     "output_type": "stream",
     "text": [
      "namename는 <class 'str'>\n",
      "---------------------------------------------\n",
      "['n', 'a', 'm', 'e', 'n', 'a', 'm', 'e']는 <class 'list'>\n",
      "---------------------------------------------\n",
      "('n', 'a', 'm', 'e', 'n', 'a', 'm', 'e')는 <class 'tuple'>\n",
      "---------------------------------------------\n",
      "{'m', 'e', 'a', 'n'}는 <class 'set'>\n",
      "---------------------------------------------\n"
     ]
    }
   ],
   "source": [
    "# x_iter_v에 문자열 'namename'를 할당. 문자열은 iterable 자료형임\n",
    "x_iter_v = 'namename'\n",
    "\n",
    "#  x_iter_v의 값과 자료형을 출력\n",
    "print(f'{x_iter_v}는 {type(x_iter_v)}', end='\\n'+'-'*45+'\\n')\n",
    "\n",
    "# x_iter_v 를 리스트로 변환하여 할당\n",
    "x_iter_v_l = list(x_iter_v)\n",
    "print(f'{x_iter_v_l}는 {type(x_iter_v_l)}', end='\\n'+'-'*45+'\\n')\n",
    "\n",
    "# x_iter_v 를 튜플로 변환하여 할당\n",
    "x_iter_v_t = tuple(x_iter_v)\n",
    "print(f'{x_iter_v_t}는 {type(x_iter_v_t)}', end='\\n'+'-'*45+'\\n')\n",
    "\n",
    "# x_iter_v 를 집합으으로 변환하여 할당\n",
    "x_iter_v_s = set(x_iter_v)\n",
    "print(f'{x_iter_v_s}는 {type(x_iter_v_s)}', end='\\n'+'-'*45+'\\n')\n",
    "# 집합은 중복이 제거됨\n",
    "\n"
   ]
  },
  {
   "cell_type": "markdown",
   "metadata": {},
   "source": [
    "##### 중복된 값을 제거하는 집합의 순서 기준이 무엇일까?"
   ]
  },
  {
   "cell_type": "code",
   "execution_count": null,
   "metadata": {},
   "outputs": [
    {
     "name": "stdout",
     "output_type": "stream",
     "text": [
      "{'b', 'a', 'c'}는 <class 'set'>\n",
      "------------------------------\n"
     ]
    }
   ],
   "source": [
    "# 중복된 값을 제거하는 집합의의 순서 기준이 무엇일까?\n",
    "\n",
    "a = 'aabbbcccc'\n",
    "a = set(a)\n",
    "print(f'{a}는 {type(a)}', end='\\n'+'-'*30+'\\n')\n",
    "# 일단은 중복된 값의 갯수는 아님\n",
    "# 강의록에도 똑같이 b a c 순으로 되어 있음 아마 고유값이 있는게 아닐까\n",
    "# 아 순서가 의미 없는 iterable 자료형이니 순서를 운운하는 것이 의미 없음.."
   ]
  },
  {
   "cell_type": "markdown",
   "metadata": {},
   "source": [
    "#### 데이터의 연산\n",
    "- 산술 연산자 : a**b a*b a/b a//b a%b a+b a-b\n",
    "- 관계 연산자 : > >= <= < == !=\n",
    "- 논리 연산자 : not x / x and y / x or y"
   ]
  },
  {
   "cell_type": "markdown",
   "metadata": {},
   "source": [
    "##### 산술연산"
   ]
  },
  {
   "cell_type": "code",
   "execution_count": 4,
   "metadata": {},
   "outputs": [
    {
     "name": "stdout",
     "output_type": "stream",
     "text": [
      "5+4 = 9\n",
      "5.0+4 = 9.0\n",
      "5.0+4.0 = 9.0\n",
      "'5'+'4' = '54'\n",
      "unsupported operand type(s) for +: 'int' and 'str'\n"
     ]
    }
   ],
   "source": [
    "print(f'{5+4 = }') # 정수 + 정수 = 정수\n",
    "print(f'{5.0+4 = }') # 실수 + 정수 = 실생\n",
    "print(f'{5.0+4.0 = }') # 실수 + 실수 = 실수\n",
    "print(f'{'5'+'4' = }') #문자열 + 문자열 = 문자열\n",
    "\n",
    " #에러 발생\n",
    "try:\n",
    "    print(f'{2+'3' = }') #정수 + 문자열 = 에러\n",
    "except Exception as e:\n",
    "    print(e)\n"
   ]
  },
  {
   "cell_type": "markdown",
   "metadata": {},
   "source": [
    "##### 서로다른 형식을 더하는 방법은 없을까?"
   ]
  },
  {
   "cell_type": "code",
   "execution_count": 11,
   "metadata": {},
   "outputs": [
    {
     "name": "stdout",
     "output_type": "stream",
     "text": [
      "a+b = '57'\n",
      "int(a) + int(b) = 12\n",
      "float(a) + float(b) = 12.0\n",
      "int(a) + float(b) = 12.0\n"
     ]
    }
   ],
   "source": [
    "a = '5'\n",
    "b = '7'\n",
    "\n",
    "print(f'{a+b = }') # 문자열 끼리 더하는 것은 그냥 붙이기 됨\n",
    "print(f'{int(a) + int(b) = }') # 문자열 정수형으로 변환\n",
    "print(f'{float(a) + float(b) = }') # 문자열은 실수형으로 변환\n",
    "print(f'{int(a) + float(b) = }') # 하나는 정수형 하는 실수형으로 변환해 계산\n",
    "# 결과는 실수형"
   ]
  },
  {
   "cell_type": "code",
   "execution_count": null,
   "metadata": {},
   "outputs": [
    {
     "name": "stdout",
     "output_type": "stream",
     "text": [
      "6-2 = 4\n",
      "6.0-2 = 4.0\n",
      "6.0-2.0 = 4.0\n",
      "6*2 = 12\n",
      "6.0*2 = 12.0\n",
      "6.0*2.0 = 12.0\n",
      "6/2 = 3.0\n",
      "6.0/2 = 3.0\n",
      "6.0/2.0 = 3.0\n"
     ]
    }
   ],
   "source": [
    "print(f'{6-2 = }') #정수 - 정수 = 정수\n",
    "print(f'{6.0-2 = }') # 실수 - 정수 = 실수\n",
    "print(f'{6.0-2.0 = }') # 실수 - 실수 = 실수\n",
    "print(f'{6*2 = }') # 정수 * 정수 = 정수\n",
    "print(f'{6.0*2 = }') # 실수 * 정수 = 실수\n",
    "print(f'{6.0*2.0 = }') #실수 * 실수 = 실수\n",
    "print(f'{6/2 = }') #정수 / 정수 = 실수\n",
    "print(f'{6.0/2 = }') #실수 / 정수 = 실수\n",
    "print(f'{6.0/2.0 = }') #실수 / 실수 = 실수\n",
    "\n",
    "# 정수로 딱 떨어지게 나누었더라고 실수로 반환이 된다."
   ]
  },
  {
   "cell_type": "code",
   "execution_count": 15,
   "metadata": {},
   "outputs": [
    {
     "name": "stdout",
     "output_type": "stream",
     "text": [
      "17//5 = 3\n",
      "17%5 = 2\n",
      "5**4 = 625\n"
     ]
    }
   ],
   "source": [
    "# 몫\n",
    "print(f'{17//5 = }')\n",
    "\n",
    "# 나머지\n",
    "print(f'{17%5 = }')\n",
    "\n",
    "# 거듭제곱\n",
    "print(f'{5**4 = }')"
   ]
  },
  {
   "cell_type": "code",
   "execution_count": 22,
   "metadata": {},
   "outputs": [
    {
     "name": "stdout",
     "output_type": "stream",
     "text": [
      "var_x + var_x = 'ABCABC'\n",
      "var_y + var_y  = [4, 7, 10, 4, 7, 10]\n",
      "var_x * 3 = 'ABCABCABC'\n",
      "var_y * 3 = [4, 7, 10, 4, 7, 10, 4, 7, 10]\n"
     ]
    }
   ],
   "source": [
    "var_x = 'ABC'\n",
    "var_y = [4,7,10]\n",
    "\n",
    "# 문자열과 문자열의 합\n",
    "print(f'{var_x + var_x = }')\n",
    "\n",
    "# 리스트와 리스트\n",
    "print(f'{var_y + var_y  = }')\n",
    "\n",
    "#문자열과 정수의 곱\n",
    "print(f'{var_x * 3 = }')\n",
    "\n",
    "#리스트와 정수의 곱\n",
    "print(f'{var_y * 3 = }')"
   ]
  },
  {
   "cell_type": "code",
   "execution_count": null,
   "metadata": {},
   "outputs": [
    {
     "name": "stdout",
     "output_type": "stream",
     "text": [
      "unsupported operand type(s) for /: 'list' and 'int'\n"
     ]
    }
   ],
   "source": [
    "# 리스트를 나누기?\n",
    "try:\n",
    "    print(f'{var_y* 1/3 = }')\n",
    "\n",
    "except TypeError as e:\n",
    "    print(e) # 리스트에는 나누기가 적용 되지 않는다. \n",
    "\n"
   ]
  },
  {
   "cell_type": "markdown",
   "metadata": {},
   "source": [
    "##### 비교연산"
   ]
  },
  {
   "cell_type": "code",
   "execution_count": 27,
   "metadata": {},
   "outputs": [
    {
     "name": "stdout",
     "output_type": "stream",
     "text": [
      "6 == 2 = False\n",
      "6 True\n",
      "6 > 2 = True\n",
      "6 < 2 = False\n",
      "6 >= 2 = True\n",
      "6 <= 2 = False\n"
     ]
    }
   ],
   "source": [
    "print(f'{6 == 2 = }')\n",
    "print(f'{6 != 2 = }')\n",
    "print(f'{6 > 2 = }')\n",
    "print(f'{6 < 2 = }')\n",
    "print(f'{6 >= 2 = }')\n",
    "print(f'{6 <= 2 = }')\n"
   ]
  },
  {
   "cell_type": "code",
   "execution_count": 30,
   "metadata": {},
   "outputs": [
    {
     "name": "stdout",
     "output_type": "stream",
     "text": [
      "(var_y == [4, 5, 6]) = True\n",
      "(var_y == (4, 5, 6)) = False\n",
      "(var_y == [4, 5]) = False\n",
      "(var_y != [4, 5]) = True\n",
      "(var_y > [4, 5]) = True\n",
      "(var_y < [4, 5]) = False\n"
     ]
    }
   ],
   "source": [
    "#변수 var_y에 리스트 [1, 2, 3]을 할당\n",
    "var_y = [4, 5, 6]\n",
    "\n",
    "print(f'{(var_y == [4, 5, 6]) = }') # var_y와 [4, 5, 6] 이 같은지 비교\n",
    "print(f'{(var_y == (4, 5, 6)) = }') # var_y와 (4, 5, 6)이 같은지 비교\n",
    "print(f'{(var_y == [4, 5]) = }') # var_y와 [4, 5]가 같은지 비교\n",
    "print(f'{(var_y != [4, 5]) = }') # var_y와 [4, 5]가 다른지 비교\n",
    "print(f'{(var_y > [4, 5]) = }') # var_y가 [4, 5]보다 큰지 비교\n",
    "print(f'{(var_y < [4, 5]) = }') # var_y가 [4, 5]보다 작은지 비교\n"
   ]
  },
  {
   "cell_type": "code",
   "execution_count": 32,
   "metadata": {},
   "outputs": [
    {
     "name": "stdout",
     "output_type": "stream",
     "text": [
      "(var_y < [4, 5, 6]) = False\n",
      "(var_y <= [4, 5, 6]) = True\n"
     ]
    }
   ],
   "source": [
    "print(f'{(var_y < [4, 5, 6]) = }')\n",
    "print(f'{(var_y <= [4, 5, 6]) = }')"
   ]
  },
  {
   "cell_type": "markdown",
   "metadata": {},
   "source": [
    "##### 논리연산"
   ]
  },
  {
   "cell_type": "code",
   "execution_count": 33,
   "metadata": {},
   "outputs": [
    {
     "data": {
      "text/plain": [
       "True"
      ]
     },
     "execution_count": 33,
     "metadata": {},
     "output_type": "execute_result"
    }
   ],
   "source": [
    "# True와 True를 and 연산\n",
    "True and True "
   ]
  },
  {
   "cell_type": "code",
   "execution_count": 34,
   "metadata": {},
   "outputs": [
    {
     "name": "stdout",
     "output_type": "stream",
     "text": [
      "var_y = False\n",
      "(var_x and var_y) = False\n",
      "(var_x or var_y) = True\n",
      "(not var_x) = False\n"
     ]
    }
   ],
   "source": [
    "# 변수 var_x에 불리언 True를 할당\n",
    "var_x = True\n",
    "\n",
    "# 변수 var_xdp 10 < 40 의 결과를 할당\n",
    "var_y = (10 > 40) # False\n",
    "\n",
    "print(f'{var_y = }') # var_y의 값을 출력\n",
    "print(f'{(var_x and var_y) = }') # var_x와 var_y의 논리곱을 출력\n",
    "print(f'{(var_x or var_y) = }') # var_x와 var_y의 논리합을 출력\n",
    "print(f'{(not var_x) = }') # var_x의 논리부정을 출력"
   ]
  },
  {
   "cell_type": "code",
   "execution_count": 39,
   "metadata": {},
   "outputs": [
    {
     "name": "stdout",
     "output_type": "stream",
     "text": [
      "(10==40) and (10!=40) = False\n"
     ]
    }
   ],
   "source": [
    "#관계연산자와 논리연산자를 함께 사용\n",
    "print(f'{(10==40) and (10!=40) = }')"
   ]
  },
  {
   "cell_type": "markdown",
   "metadata": {},
   "source": [
    "###### 추가적인 연산"
   ]
  },
  {
   "cell_type": "code",
   "execution_count": 38,
   "metadata": {},
   "outputs": [
    {
     "name": "stdout",
     "output_type": "stream",
     "text": [
      "(var_x and var_x) = True\n",
      "(var_y and var_y) = False\n",
      "(var_x or var_y) = True\n"
     ]
    }
   ],
   "source": [
    "var_x = True\n",
    "var_y = (10 > 40) # False\n",
    "\n",
    "# True * True\n",
    "print(f'{(var_x and var_x) = }')\n",
    "\n",
    "# False * False\n",
    "print(f'{(var_y and var_y) = }')\n",
    "\n",
    "# True * False\n",
    "print(f'{(var_x or var_y) = }') "
   ]
  },
  {
   "cell_type": "markdown",
   "metadata": {},
   "source": [
    "##### 멤버십 연산"
   ]
  },
  {
   "cell_type": "code",
   "execution_count": null,
   "metadata": {},
   "outputs": [
    {
     "name": "stdout",
     "output_type": "stream",
     "text": [
      "(4 in var_y) = True\n",
      "('4' in var_y) = False\n",
      "(5 in var_y) = True\n",
      "(1 not in var_y) = True\n",
      "(4 not in var_y) = False\n"
     ]
    }
   ],
   "source": [
    "#변수 var_y에 리스트 [4, 5, 6]을 할당\n",
    "var_y = [4, 5, 6]\n",
    "\n",
    "print(f'{(4 in var_y) = }') # 1 var_y에 포함되어 있는지 확인\n",
    "print(f'{('4' in var_y) = }') # 문자열 1이 var_y에 포함되어 있는지 확인\n",
    "print(f'{(5 in var_y) = }') # 4가 var_y에 포함되어 있는지 확인\n",
    "print(f'{(1 not in var_y) = }') # 1이 var_y에 포함되어 있지 않은지 확인\n",
    "print (f'{(4 not in var_y) = }') # 4가 var_y에 포함되어 있지 않은지 확인"
   ]
  },
  {
   "cell_type": "markdown",
   "metadata": {},
   "source": [
    "##### 식별연산\n",
    "- is : 동일한 객체이면 참 / is not : 동인한 객체가 아니면 참"
   ]
  },
  {
   "cell_type": "code",
   "execution_count": 42,
   "metadata": {},
   "outputs": [
    {
     "name": "stdout",
     "output_type": "stream",
     "text": [
      "(var_x == 10) = True\n",
      "(var_x is 10) = True\n"
     ]
    },
    {
     "name": "stderr",
     "output_type": "stream",
     "text": [
      "<>:8: SyntaxWarning: \"is\" with 'int' literal. Did you mean \"==\"?\n",
      "<>:8: SyntaxWarning: \"is\" with 'int' literal. Did you mean \"==\"?\n",
      "C:\\Users\\82102\\AppData\\Local\\Temp\\ipykernel_24788\\2046176520.py:8: SyntaxWarning: \"is\" with 'int' literal. Did you mean \"==\"?\n",
      "  print(f'{(var_x is 10) = }')\n"
     ]
    }
   ],
   "source": [
    "#변수 var_x에 정수 10을 할당\n",
    "var_x = 10\n",
    "\n",
    "# var_x가 10과 값이 같은 지 확인\n",
    "print(f'{(var_x == 10) = }')\n",
    "\n",
    "# var_x가 10과 주소가 같은 지 확인 -> 경고 발생\n",
    "print(f'{(var_x is 10) = }')"
   ]
  },
  {
   "cell_type": "code",
   "execution_count": 44,
   "metadata": {},
   "outputs": [
    {
     "name": "stdout",
     "output_type": "stream",
     "text": [
      "(var_x is var_y) = False\n",
      "(var_x is var_z) = True\n",
      "(var_x is not var_y) = True\n",
      "(var_x is not var_z) = False\n"
     ]
    }
   ],
   "source": [
    "var_x = 20 # 변수 var_x에 정수 20을 할당\n",
    "var_y = 20.0 # 변수 var_y에 실수 20.0을 할당\n",
    "var_z = var_x # 변수 var_z에 var_x를 할당\n",
    "\n",
    "print(f'{(var_x is var_y) = }') # var_x와 var_y의 주소가 같은지 확인\n",
    "print(f'{(var_x is var_z) = }') # var_x와 var_z가 주소가 같은지 확인\n",
    "print(f'{(var_x is not var_y) = }') # var_x와 var_y의 주소가 다른지 확인\n",
    "print(f'{(var_x is not var_z) = }') # var_x와 var_z의 주소가 다른지 확인"
   ]
  },
  {
   "cell_type": "markdown",
   "metadata": {},
   "source": [
    "##### 복합 대입 연산\n",
    "- x+= a: x = x + a\n",
    "- X-= a: x = x - a\n",
    "- X*= a: x = x * a\n",
    "- x /= a: x = x/a\n",
    "- x //= a: x = x // a\n",
    "- x%= a: x = x % a\n",
    "- x **= a: x = x ** а\n"
   ]
  },
  {
   "cell_type": "code",
   "execution_count": 45,
   "metadata": {},
   "outputs": [
    {
     "name": "stdout",
     "output_type": "stream",
     "text": [
      "6\n"
     ]
    }
   ],
   "source": [
    "var_x = 3\n",
    "\n",
    "# var x = var x + 3\n",
    "var_x += 3\n",
    "print(var_x)"
   ]
  },
  {
   "cell_type": "markdown",
   "metadata": {},
   "source": [
    "##### 연산의 우선순위\n",
    "- 연산자 우선순위는 수학에서와 동일\n",
    "- (), **, *, /, //, %, +, -, ==, !=, >, <, >=, <=, not, and, or\n",
    "- 우선순위가 존재하지만 명확히 하기 위해 괄호(())를 사용하는 것이 좋음"
   ]
  },
  {
   "cell_type": "code",
   "execution_count": 49,
   "metadata": {},
   "outputs": [
    {
     "name": "stdout",
     "output_type": "stream",
     "text": [
      "13\n",
      "256\n",
      "True\n",
      "False\n",
      "False\n"
     ]
    }
   ],
   "source": [
    "print (2**3+5) # 2의 3제곱에 5를 더한 결과를 출력\n",
    "print(2**(3+5)) # 2의 3+5제곱을 출력\n",
    "print (2+30 >= 4*5) # 2+30 4*5보다 작거나 같은지를 출력\n",
    "print(not 2+3<4*5) # 2+30 4*5보다 작거나 같지 않은지를 출력\n",
    "print(not ((2+3) < (4*5))) # 2+30 4*5보다 작거나 같지 않은지를 출력"
   ]
  },
  {
   "cell_type": "markdown",
   "metadata": {},
   "source": [
    "##### 위의 식을 괄호를 통해 명확한 순서로 표현"
   ]
  },
  {
   "cell_type": "code",
   "execution_count": null,
   "metadata": {},
   "outputs": [
    {
     "name": "stdout",
     "output_type": "stream",
     "text": [
      "13\n",
      "256\n",
      "True\n",
      "False\n"
     ]
    }
   ],
   "source": [
    "# 2의 3제곱을 먼저한 후에 출력\n",
    "print ((2**3)+5)\n",
    "\n",
    "# 3+5를 한 후에 2에 (3+5) 제곱을 출력\n",
    "print(2**(3+5))\n",
    "\n",
    "# 2+30과 4*5을 계산 후 두 값이 작거나 같은지를 출력\n",
    "print ((2+30) >= (4*5)) \n",
    "\n",
    "# 2+3 dl 4*5를 비교후 나온 값(True)을 부정\n",
    "print(not ((2+3) <= (4*5)))"
   ]
  }
 ],
 "metadata": {
  "kernelspec": {
   "display_name": "base",
   "language": "python",
   "name": "python3"
  },
  "language_info": {
   "codemirror_mode": {
    "name": "ipython",
    "version": 3
   },
   "file_extension": ".py",
   "mimetype": "text/x-python",
   "name": "python",
   "nbconvert_exporter": "python",
   "pygments_lexer": "ipython3",
   "version": "3.12.8"
  }
 },
 "nbformat": 4,
 "nbformat_minor": 2
}
